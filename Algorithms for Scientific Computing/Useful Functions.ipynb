{
 "cells": [
  {
   "cell_type": "code",
   "execution_count": 2,
   "metadata": {},
   "outputs": [],
   "source": [
    "import numpy as np\n",
    "import math\n",
    "import matplotlib.pyplot as plt\n",
    "import cmath\n",
    "from __future__ import division\n",
    "from sympy import *\n",
    "from random import randint\n",
    "from fractions import Fraction"
   ]
  },
  {
   "cell_type": "markdown",
   "metadata": {},
   "source": [
    "# 1) Fourier Series"
   ]
  },
  {
   "cell_type": "markdown",
   "metadata": {},
   "source": [
    "#### Find coefficients $\\alpha_{k}$ and $\\beta_{k}$ as in exercise 1.1"
   ]
  },
  {
   "cell_type": "code",
   "execution_count": 2,
   "metadata": {},
   "outputs": [],
   "source": [
    "# function values in the grid point (f)\n",
    "f = [408, 89, -66, 10, 338, 807, 1238, 1511, 1583, 1462, 1183, 804]\n",
    "N = len(f)\n",
    "\n",
    "# initialize a and b\n",
    "a = [0] * (N//2 + 1)\n",
    "b = [0] * (N//2 - 1)\n",
    "\n",
    "# compute a_k\n",
    "for k in range(len(a)):\n",
    "    for n in range(N):\n",
    "        a[k] += f[n] * np.cos((2 * np.pi * n * k) / N)\n",
    "    a[k] /= N\n",
    "    a[k] *= 2\n",
    "a[0] /= 2\n",
    "a[N//2] /= 2\n",
    "\n",
    "# compute b_k\n",
    "for k in range(1, len(b)+1):\n",
    "    for n in range(N):\n",
    "        b[k-1] += f[n] * np.sin((2 * np.pi * n * k) / N)\n",
    "    b[k-1] /= N\n",
    "    b[k-1] *= 2"
   ]
  },
  {
   "cell_type": "markdown",
   "metadata": {},
   "source": [
    "#### Compute coefficients $c_{k}$ as in exercise 1.2"
   ]
  },
  {
   "cell_type": "code",
   "execution_count": 3,
   "metadata": {},
   "outputs": [],
   "source": [
    "c = np.array([np.sum([f[l]*cmath.exp(-2*math.pi*k*l*1J/N)/N for l in range(0,N)]) for k in range(0,N//2+1)])"
   ]
  },
  {
   "cell_type": "markdown",
   "metadata": {},
   "source": [
    "#### Compute fft"
   ]
  },
  {
   "cell_type": "code",
   "execution_count": 4,
   "metadata": {},
   "outputs": [],
   "source": [
    "def fft(f):\n",
    "    from scipy.fftpack import fft as unscaled_fft\n",
    "    return list(map(lambda x : x/len(f), unscaled_fft(f)))"
   ]
  },
  {
   "cell_type": "markdown",
   "metadata": {},
   "source": [
    "# 2) Analytical Integration"
   ]
  },
  {
   "cell_type": "code",
   "execution_count": 5,
   "metadata": {},
   "outputs": [],
   "source": [
    "x, y = symbols('x y')\n",
    "l, i = symbols('l, i', integer=True)\n",
    "f, g = symbols('f g', cls=Function)"
   ]
  },
  {
   "cell_type": "code",
   "execution_count": 6,
   "metadata": {},
   "outputs": [
    {
     "name": "stdout",
     "output_type": "stream",
     "text": [
      "-4*x**3/3 + 2*x**2\n",
      "\n",
      "2/3\n"
     ]
    }
   ],
   "source": [
    "f = -4 * x * (x-1)  # define function\n",
    "intf = integrate(f, x)  # compute symbolic integration\n",
    "\n",
    "print(intf)\n",
    "print()\n",
    "print(integrate(f,(x, 0, 1)))  # compute integral in dx between 0 and 1"
   ]
  },
  {
   "cell_type": "markdown",
   "metadata": {},
   "source": [
    "#### Trapezoidal Rule\n",
    "\n",
    "\\begin{equation}T = (b-a)*\\frac{f(a)+f(b)}{2}\\end{equation}"
   ]
  },
  {
   "cell_type": "code",
   "execution_count": 7,
   "metadata": {},
   "outputs": [
    {
     "name": "stdout",
     "output_type": "stream",
     "text": [
      "CTR intf = 0.666666000000000\n"
     ]
    }
   ],
   "source": [
    "def trapezoidalRule(f, a, b, n):\n",
    "    '''\n",
    "    Implements CTR to approximate the integral of a given function. \n",
    "        F ~= T = (b-a) * (f(a)+f(b))/2\n",
    "    '''\n",
    "    integral = 0.0\n",
    "    dh = (b-a)/float(n) # define interval base length\n",
    "    \n",
    "    # Calculate the integral.\n",
    "    # for every interval do...\n",
    "    for i in range(n):\n",
    "        l = a + i*dh\n",
    "        r = l + dh\n",
    "        integral += dh * (f(l) + f(r)) * 0.5\n",
    "    \n",
    "    return integral\n",
    "\n",
    "integ = trapezoidalRule(lambda t: f.subs(x, t), 0.0, 1.0, 1000)\n",
    "print('CTR intf =',integ)"
   ]
  },
  {
   "cell_type": "markdown",
   "metadata": {},
   "source": [
    "#### Simpson Rule\n",
    "\n",
    "\\begin{equation}T = (b-a)*\\frac{f(a)+f(b)+4f(\\frac{a+b}{2})}{2}\\end{equation}\n"
   ]
  },
  {
   "cell_type": "code",
   "execution_count": 8,
   "metadata": {},
   "outputs": [
    {
     "name": "stdout",
     "output_type": "stream",
     "text": [
      "\n",
      "SR intf = 0.666666666666667\n"
     ]
    }
   ],
   "source": [
    "def simpsonRule(f, a, b, n):\n",
    "    '''\n",
    "    Implements SR to approximate the integral of given function.\n",
    "        F ~= S = (b-a) * (f(a) + f(b) + 4*f(m)) / 6, where m = (a+b)/2\n",
    "    '''\n",
    "    \n",
    "    integral = 0.0\n",
    "    dh = (b-a)/float(n)\n",
    "    \n",
    "    # Calculate the integral.\n",
    "    for i in range(n):\n",
    "        l = a + i*dh\n",
    "        r = l + dh\n",
    "        m = (l + r) * 0.5\n",
    "    \n",
    "        integral += dh * (f(l) + f(r) + 4*f(m)) / 6\n",
    "    \n",
    "    return integral\n",
    "\n",
    "integ = simpsonRule(lambda t: f.subs(x, t), 0.0, 1.0, 5)\n",
    "print('\\nSR intf =',integ)"
   ]
  },
  {
   "cell_type": "markdown",
   "metadata": {},
   "source": [
    "## Archimede's Hierarchical Approach "
   ]
  },
  {
   "cell_type": "markdown",
   "metadata": {},
   "source": [
    "#### Hierachization of 1d vector\n",
    "\n",
    "Let $\\vec{u} = [u_0,\\dots,u_{n-1}]^T \\in {\\mathbb R}^n, n = 2^l - 1, l \\in {\\mathbb N}$ a vector of function values with\n",
    "$u_i = f(x_i = \\frac{i + 1}{2^l})$.\n",
    "\n",
    "The vector $\\vec{v}$ contains the hierachical coefficients, computed as \\begin{equation} v_{l, i} = u(x_{l,i} - \\frac{u(x_{l, i-1})+u(x_{l,i+1})}{2} \\end{equation}\n",
    "\n",
    "OSS: When computing $\\vec{v}$ is important to start from maxlevel and go back to level 0, while when computing the values $\\vec{u}$ from $\\vec{v}$ the formula is the inverse, but also the order is from level 0 to maxlevel!"
   ]
  },
  {
   "cell_type": "code",
   "execution_count": 9,
   "metadata": {},
   "outputs": [],
   "source": [
    "def hierarchize1d(u, maxlv):\n",
    "    ''' \n",
    "    Basic algorithm:\n",
    "    -----------------\n",
    "    for l = maxlevel..1 :\n",
    "        delta = 2**(maxl - l)   # detla is indeed the index interval between mid-point and end-point\n",
    "        for j = index of every point of level l:\n",
    "            v[j] = u[j] - 0.5*(u[j-delta] + u[j+delta])  \n",
    "    '''\n",
    "    \n",
    "    v = list(u)\n",
    "    N = len(u)\n",
    "    \n",
    "    for lv in range(maxlv, 1, -1):   # no need to include level=1, bc v[j] = u[j] at level 1\n",
    "        delta = 2**(maxlv - lv)      # index interval between mid-point and end-point\n",
    "        first = 2**(maxlv - lv) - 1  # first point index of current level\n",
    "        \n",
    "        for j in range(first, N, 2*delta):\n",
    "            #v[j] = u[j] - 0.5 * (u[j-delta] + u[j+delta]) <--- cannot do this directly\n",
    "            # we need to make sure index not out of bound\n",
    "            \n",
    "            v[j] = u[j]\n",
    "            \n",
    "            if (j-delta >= 0):\n",
    "                v[j] -= 0.5 * u[j-delta]\n",
    "                \n",
    "            if (j+delta < N):\n",
    "                v[j] -= 0.5 * u[j+delta]\n",
    "    \n",
    "    return v"
   ]
  },
  {
   "cell_type": "code",
   "execution_count": 10,
   "metadata": {},
   "outputs": [],
   "source": [
    "def dehierarchize1d(v, maxlv):\n",
    "    ''' \n",
    "    Basic algorithm:\n",
    "    -----------------\n",
    "    for l = 1..maxlevel :\n",
    "        delta = 2**(maxl - l)   # detla is indeed the index interval between mid-point and end-point\n",
    "        for j = index of every point of level l:\n",
    "            u[j] = v[j] + 0.5*(v[j-delta] + v[j+delta])  \n",
    "    '''\n",
    "    \n",
    "    u = list(v)\n",
    "    N = len(v)\n",
    "    \n",
    "    #ToDo\n",
    "    for l in range(1, maxlv+1):\n",
    "        delta = 2**(maxlv - l)\n",
    "        start = delta - 1\n",
    "        for i in range(0, 2**l - 1, 2):\n",
    "            position = start + i * delta\n",
    "            assert(N > position >= 0)\n",
    "            u[position] = v[position]\n",
    "            if position - delta >= 0:\n",
    "                u[position] += 0.5 * u[position - delta]\n",
    "            if position + delta < N:\n",
    "                u[position] += 0.5 * u[position + delta]\n",
    "    return u"
   ]
  },
  {
   "cell_type": "markdown",
   "metadata": {},
   "source": [
    "# 3) Wavelets"
   ]
  },
  {
   "cell_type": "markdown",
   "metadata": {},
   "source": [
    "#### Cascade Algorithm"
   ]
  },
  {
   "cell_type": "code",
   "execution_count": 11,
   "metadata": {},
   "outputs": [
    {
     "data": {
      "image/png": "[encoded data removed]",
      "text/plain": [
       "<Figure size 792x648 with 1 Axes>"
      ]
     },
     "metadata": {
      "needs_background": "light"
     },
     "output_type": "display_data"
    }
   ],
   "source": [
    "# --- Coefficents ---\n",
    "\n",
    "class HaarScalingFunction:\n",
    "    c = (1.0, 1.0)\n",
    "    \n",
    "class Daubechies4ScalingFunction:\n",
    "    c = (0.683012701892, 1.18301270189, 0.316987298108, -0.183012701892)\n",
    "    \n",
    "class BattleLemarieScalingFunction:\n",
    "    c = (1/8, 1/2, 3/4, 1/2, 1/8)\n",
    "    \n",
    "# ---------------------\n",
    "\n",
    "# Father Wavelet (scaling function)\n",
    "class FixedPointScalingApproximation:\n",
    "    def __init__(self, previous_scaling, c):\n",
    "        self.previous_scaling = previous_scaling\n",
    "        self.c = c\n",
    "        self.N = len(c)\n",
    "    def __call__(self, x):\n",
    "        c = self.c\n",
    "        result = 0.0\n",
    "        for i in range(self.N):\n",
    "            result += c[i] * self.previous_scaling(2*x - i)\n",
    "        return result\n",
    "\n",
    "# Mother Wavelet    \n",
    "class FixedPointWaveletApproximation:\n",
    "    def __init__(self, previous_scaling, c):\n",
    "        self.previous_scaling = previous_scaling\n",
    "        self.c = c\n",
    "        self.N = len(c)\n",
    "    def __call__(self, x):\n",
    "        c = self.c\n",
    "        result = 0.0\n",
    "        for i in range(self.N):\n",
    "            result += (-1)**i * c[self.N-i-1] * self.previous_scaling(2*x - i)\n",
    "        return result\n",
    "    \n",
    "#ScalingFunction = HaarScalingFunction\n",
    "#ScalingFunction = Daubechies4ScalingFunction\n",
    "ScalingFunction = BattleLemarieScalingFunction\n",
    "\n",
    "a, b =  -1.0, 4.0\n",
    "plotLevel  = 8\n",
    "itermax = 1\n",
    "\n",
    "fig = plt.figure(1, figsize = (11, 9))\n",
    "plt.suptitle('Cranking my own machine')\n",
    "_ = plt.grid(True)\n",
    "_ = plt.ylim(-1.5, 1.8)\n",
    "\n",
    "# starting point in the fixed point iteration\n",
    "hat = lambda t: max(0.0, 1-abs(t))\n",
    "\n",
    "# set of sampling points used for plotting\n",
    "x = np.linspace(a, b, int(b-a) << plotLevel)\n",
    "\n",
    "# plot the hat function\n",
    "ax = []\n",
    "ax.append(plt.plot(x, list(map(hat, x)), label=\"hat\"))\n",
    "\n",
    "# Output scaling functions (father)\n",
    "fixedPointScaling = [hat,] + [None,]* itermax\n",
    "\n",
    "# Output wavelet functions (mother)\n",
    "fixedPointWavelet = [hat,] + [None,]* itermax\n",
    "\n",
    "for i in range(1, itermax + 1):\n",
    "    fixedPointScaling[i] = FixedPointScalingApproximation(fixedPointScaling[i-1], ScalingFunction.c)\n",
    "    fixedPointWavelet[i] = FixedPointWaveletApproximation(fixedPointScaling[i-1], ScalingFunction.c)    \n",
    "\n",
    "\n",
    "ax.append(plt.plot(x, list(map(fixedPointScaling[itermax], x)), label=\"scaling [%d]\" % itermax))\n",
    "ax.append(plt.plot(x, list(map(fixedPointWavelet[itermax], x)), label=\"wavelet [%d]\" % itermax))\n",
    "\n",
    "_ = plt.legend()\n",
    "_ = plt.show()\n",
    "\n"
   ]
  },
  {
   "cell_type": "code",
   "execution_count": 12,
   "metadata": {},
   "outputs": [],
   "source": [
    "#### Haar Wavelet Transformation Matrix\n",
    "def buildHaarWaveletTransformationMatrix(level, inverse=False):\n",
    "    '''\n",
    "    Haar Wavelet Transform as dense matrix\n",
    "\n",
    "    @param level matrix dimensions are (2^level x 2^level)\n",
    "    @param normalized build orthogonal matrix\n",
    "    @param inverse build the inverse transformation matrix\n",
    "    '''\n",
    "    M = np.zeros((2**level,2**level))\n",
    "\n",
    "    for i in range(2**level):\n",
    "        M[i,0] = 1\n",
    "    j = 1\n",
    "    for l in range(1,level+1):\n",
    "        for j_level in range(2**(l-1)):\n",
    "            delta = 2**(level - l)\n",
    "            start = 2 * delta * j_level\n",
    "            end = start + delta\n",
    "            for i in range(start,end):\n",
    "                M[i,j] = 1\n",
    "            for i in range(start+delta,end+delta):\n",
    "                M[i,j] = -1\n",
    "            j += 1\n",
    "    \n",
    "    if inverse:\n",
    "        return np.linalg.inv(M)\n",
    "    return M\n",
    "\n",
    "M = buildHaarWaveletTransformationMatrix(3, False)\n",
    "M_inv = buildHaarWaveletTransformationMatrix(3, True)"
   ]
  },
  {
   "cell_type": "code",
   "execution_count": 13,
   "metadata": {},
   "outputs": [
    {
     "name": "stdout",
     "output_type": "stream",
     "text": [
      "Input signal:  [ 1.  2.  3. -1.  1. -4. -2.  4.]\n",
      "Result from Matrix transformation:  [ 0.5   0.75  0.25 -1.25 -0.5   2.    2.5  -3.  ]\n",
      "Resutl from reversed Matrix transforamtion:  [ 1.  2.  3. -1.  1. -4. -2.  4.]\n"
     ]
    }
   ],
   "source": [
    "# Input signal vector\n",
    "s = np.array([1.0, 2.0, 3.0, -1.0, 1.0, -4.0, -2.0, 4.0])\n",
    "print('Input signal: ',s)\n",
    "\n",
    "d = np.array(np.dot(M_inv,s.transpose()))\n",
    "print('Result from Matrix transformation: ',d)\n",
    "\n",
    "ss = np.array(np.dot(M, d.transpose()))\n",
    "print('Resutl from reversed Matrix transforamtion: ',ss.transpose())"
   ]
  },
  {
   "cell_type": "markdown",
   "metadata": {},
   "source": [
    "#### Low and High Pass with all the printing statements"
   ]
  },
  {
   "cell_type": "code",
   "execution_count": 14,
   "metadata": {},
   "outputs": [],
   "source": [
    "def low_pass(x):\n",
    "    result = []\n",
    "    for i in range(0, len(x), 2):\n",
    "        result.append((x[i]+x[i+1])/2)\n",
    "    return result\n",
    "\n",
    "def high_pass(x):\n",
    "    result = []\n",
    "    for i in range(0, len(x), 2):\n",
    "        result.append((x[i]-x[i+1])/2)\n",
    "    return result\n",
    "\n",
    "def BasisTransform(x):\n",
    "    \"\"\"\n",
    "    x must be a vector of length 2^n\n",
    "    \"\"\"\n",
    "    level = math.log(len(x), 2)\n",
    "    assert(level.is_integer())\n",
    "    level = int(level)\n",
    "    c = x.copy()\n",
    "    print(f'c({level}): {c}\\n')\n",
    "    result = []\n",
    "    while len(c) > 1:\n",
    "        d = high_pass(c)\n",
    "        for el in d[::-1]:\n",
    "            result.insert(0, el)\n",
    "        c = low_pass(c)\n",
    "        level = int(math.log(len(c), 2))\n",
    "        print(f'c({level}): {c}')\n",
    "        print(f'd({level}): {d}\\n')\n",
    "    result.insert(0, c[0])\n",
    "    print(f'Transformation: {result}')"
   ]
  },
  {
   "cell_type": "code",
   "execution_count": 15,
   "metadata": {},
   "outputs": [
    {
     "name": "stdout",
     "output_type": "stream",
     "text": [
      "c(3): [1, 2, 3, -1, 1, -4, -2, 4]\n",
      "\n",
      "c(2): [1.5, 1.0, -1.5, 1.0]\n",
      "d(2): [-0.5, 2.0, 2.5, -3.0]\n",
      "\n",
      "c(1): [1.25, -0.25]\n",
      "d(1): [0.25, -1.25]\n",
      "\n",
      "c(0): [0.5]\n",
      "d(0): [0.75]\n",
      "\n",
      "Transformation: [0.5, 0.75, 0.25, -1.25, -0.5, 2.0, 2.5, -3.0]\n"
     ]
    }
   ],
   "source": [
    "x = [1, 2, 3, -1, 1, -4, -2, 4]\n",
    "\n",
    "BasisTransform(x)"
   ]
  },
  {
   "cell_type": "markdown",
   "metadata": {},
   "source": [
    "# 4) Multidimensional Quadrature"
   ]
  },
  {
   "cell_type": "markdown",
   "metadata": {},
   "source": [
    "#### Step 0) Define dimensions, level and function"
   ]
  },
  {
   "cell_type": "code",
   "execution_count": 16,
   "metadata": {},
   "outputs": [],
   "source": [
    "x1, x2 = symbols('x1 x2')\n",
    "\n",
    "d = 2\n",
    "l = 3\n",
    "f = 16*x1 * (x1-1) * x2 * (x2-1)"
   ]
  },
  {
   "cell_type": "markdown",
   "metadata": {},
   "source": [
    "#### Step 1) Compute Surpluses"
   ]
  },
  {
   "cell_type": "code",
   "execution_count": 17,
   "metadata": {},
   "outputs": [],
   "source": [
    "def f_value(value_x, value_y, f=f):\n",
    "    return f.subs(x1, value_x).subs(x2, value_y)\n",
    "\n",
    "\n",
    "def hierarchize1d(u):\n",
    "    maxlv = int(np.ceil(np.log2(len(u))))\n",
    "    v = list(u)\n",
    "    N = len(u)\n",
    "    \n",
    "    for lv in range(maxlv, 1, -1):  # no need to include level=1 because v[j] = u[j] at level 1\n",
    "        delta = 2**(maxlv - lv)  # index interval between mid-point and end-point\n",
    "        first = delta - 1  # first point index of current level\n",
    "        \n",
    "        for j in range(first, N, 2*delta):\n",
    "            v[j] = u[j]\n",
    "            if j-delta >= 0:\n",
    "                v[j] -= 0.5 * u[j-delta]\n",
    "            if j+delta < N:\n",
    "                v[j] -= 0.5 * u[j+delta]\n",
    "    \n",
    "    return v\n",
    "\n",
    "def compute_surpluses(xlevel=3, ylevel=3, f=f):\n",
    "    # create grid\n",
    "    x = np.linspace(0, 1, 2**xlevel + 1)[1:-1]\n",
    "    y = np.linspace(0, 1, 2**ylevel + 1)[1:-1]\n",
    "\n",
    "    X, Y = np.meshgrid(x, y)\n",
    "    dim_x = len(x)\n",
    "    dim_y = len(y)\n",
    "    \n",
    "    \n",
    "    # compute values of the function for each value\n",
    "    U = np.zeros((dim_x, dim_y))\n",
    "    for i in range(len(x)):\n",
    "        for j in range(len(y)):\n",
    "            U[i][j] = f_value(x[i], y[j], f=f)\n",
    "    \n",
    "    # for each row of U, compute the 1d hierarchized values!\n",
    "    V_tmp = np.zeros((dim_x, dim_y))\n",
    "    for i in range(U.shape[0]):\n",
    "        V_tmp[i, :] = hierarchize1d(U[i, :])\n",
    "\n",
    "    # for each column of the new computed matrix, compute the 1d hierachized values\n",
    "    V = np.zeros((dim_x, dim_y))\n",
    "    for i in range(V_tmp.shape[1]):\n",
    "        V[:, i] = hierarchize1d(V_tmp[:, i])\n",
    "    \n",
    "    return V"
   ]
  },
  {
   "cell_type": "markdown",
   "metadata": {},
   "source": [
    "#### Step 2) Compute base area of associated pagodas\n",
    "\n",
    "For each grid point $x_{l,i}$ the base area is $2^{-|l|_{1}}$"
   ]
  },
  {
   "cell_type": "code",
   "execution_count": 18,
   "metadata": {},
   "outputs": [],
   "source": [
    "def compute_pagoda_areas(xlevel=3, ylevel=3):\n",
    "    # create grid\n",
    "    x = np.linspace(0, 1, 2**xlevel + 1)[1:-1]\n",
    "    y = np.linspace(0, 1, 2**ylevel + 1)[1:-1]\n",
    "    X, Y = np.meshgrid(x, y)\n",
    "    dim_x = len(x)\n",
    "    dim_y = len(y)\n",
    "    \n",
    "    # define level based on indeces\n",
    "    # if a grid point is located on position (3, 2) it means that it is level (1, 3)\n",
    "    # D_levels = {3: 1, 1:2, 5:2, 0:3, 2:3, 4:3, 6:3}\n",
    "    D_levels = {}\n",
    "    for lv in range(0, xlevel+1): \n",
    "        delta = 2**(xlevel - lv)  \n",
    "        first = delta - 1 \n",
    "        for j in range(first, dim_x, 2*delta):\n",
    "            D_levels[j] = lv\n",
    "            \n",
    "                \n",
    "    # compute values of pagoda volumes for each grid point\n",
    "    base_areas = np.zeros((dim_x, dim_y))\n",
    "    for i in range(dim_x):\n",
    "        for j in range(dim_y):\n",
    "            base_areas[i][j] = 2**(-(D_levels[i] + D_levels[j]))\n",
    "            \n",
    "    return base_areas"
   ]
  },
  {
   "cell_type": "markdown",
   "metadata": {},
   "source": [
    "#### Step 3) Compute volumes of associated pagodas by multiplying base areas and surpluses"
   ]
  },
  {
   "cell_type": "code",
   "execution_count": 19,
   "metadata": {},
   "outputs": [],
   "source": [
    "def compute_pagoda_volumes(base_areas, surpluses, thresh=0.):\n",
    "    volumes = np.zeros_like(base_areas)\n",
    "    for i in range(volumes.shape[0]):\n",
    "        for j in range(volumes.shape[1]):\n",
    "            volumes[i][j] = base_areas[i, j] * surpluses[i, j]\n",
    "            if volumes[i][j] < thresh:\n",
    "                volumes[i][j] = 0.\n",
    "            \n",
    "    return volumes"
   ]
  },
  {
   "cell_type": "markdown",
   "metadata": {},
   "source": [
    "#### Step 4) Compute final volume"
   ]
  },
  {
   "cell_type": "code",
   "execution_count": 20,
   "metadata": {},
   "outputs": [],
   "source": [
    "def compute_volume(volumes):\n",
    "    return np.sum(volumes)"
   ]
  },
  {
   "cell_type": "markdown",
   "metadata": {},
   "source": [
    "#### Step 5) Put everything together"
   ]
  },
  {
   "cell_type": "code",
   "execution_count": 21,
   "metadata": {},
   "outputs": [],
   "source": [
    "def pagoda_volumes(xlevel=l, ylevel=l, f=f, thresh=0., colors=None):\n",
    "    # get data\n",
    "    surpluses = compute_surpluses(xlevel=xlevel, ylevel=ylevel, f=f)\n",
    "    base_areas = compute_pagoda_areas(xlevel=xlevel, ylevel=ylevel)\n",
    "    volumes = compute_pagoda_volumes(base_areas=base_areas, surpluses=surpluses, thresh=thresh)\n",
    "    tot_volume = compute_volume(volumes)\n",
    "    tot_non_null = np.count_nonzero(volumes)\n",
    "    \n",
    "    # plot\n",
    "    x = np.linspace(0, 1, 2**xlevel + 1)\n",
    "    y = np.linspace(0, 1, 2**ylevel + 1)\n",
    "    X, Y = np.meshgrid(x, y)\n",
    "    padded_volumes = np.pad(volumes, pad_width=1)\n",
    "    if colors is None:\n",
    "        colors = []\n",
    "        n = len(np.unique(padded_volumes))\n",
    "        for i in range(n):\n",
    "            colors.append('#%06X' % randint(0, 0xFFFFFF))\n",
    "    assert (len(colors) == len(np.unique(padded_volumes)))\n",
    "    \n",
    "    # associate value to color\n",
    "    D_colors = {}\n",
    "    for i in range(len(np.unique(padded_volumes))):\n",
    "        D_colors[np.unique(padded_volumes)[i]] = colors[i]\n",
    "\n",
    "    # create new volumes array with color encoding\n",
    "    volumes_colors = np.empty_like(padded_volumes, dtype=object)\n",
    "    for i in range(padded_volumes.shape[0]):\n",
    "        for j in range(padded_volumes.shape[1]):\n",
    "            volumes_colors[i][j] = D_colors[padded_volumes[i, j]]\n",
    "            \n",
    "    # finalize the plot\n",
    "    fig = plt.figure(figsize=(8, 8))\n",
    "\n",
    "    for i in range(len(X)):\n",
    "        for j in range(len(Y)):\n",
    "            plt.scatter(x[i], y[j], c=volumes_colors[i, j])\n",
    "    \n",
    "    labels = [Fraction(x) for x in list(D_colors.keys())]\n",
    "    ax = plt.gca()\n",
    "    plt.legend(labels, fancybox=True, framealpha=0.3)\n",
    "    leg = ax.get_legend()\n",
    "    for i in range(len(D_colors.keys())):\n",
    "        leg.legendHandles[i].set_color(list(D_colors.values())[i])\n",
    "\n",
    "    plt.ylim(0, 1)\n",
    "    plt.xlim(0, 1)\n",
    "    ax.set_yticks(y)\n",
    "    ax.set_xticks(x)\n",
    "    ax.yaxis.grid(True)\n",
    "    ax.xaxis.grid(True)\n",
    "    plt.suptitle(f'Total Volume: {tot_volume}', y=0.95)\n",
    "    plt.title(f'Threshold: {thresh}, N° of Pagodas: {tot_non_null}')\n",
    "    plt.show()"
   ]
  },
  {
   "cell_type": "markdown",
   "metadata": {},
   "source": [
    "#### Step 6) Run it!"
   ]
  },
  {
   "cell_type": "code",
   "execution_count": 22,
   "metadata": {},
   "outputs": [
    {
     "data": {
      "image/png": "[encoded data removed]",
      "text/plain": [
       "<Figure size 576x576 with 1 Axes>"
      ]
     },
     "metadata": {
      "needs_background": "light"
     },
     "output_type": "display_data"
    }
   ],
   "source": [
    "d = 2\n",
    "l = 3\n",
    "f = 16*x1 * (x1-1) * x2 * (x2-1)\n",
    "\n",
    "pagoda_volumes(thresh=1/256)"
   ]
  },
  {
   "cell_type": "markdown",
   "metadata": {},
   "source": [
    "# 5) Space Filling Curves"
   ]
  },
  {
   "cell_type": "markdown",
   "metadata": {},
   "source": [
    "#### Compute base 4 and base 9 representations"
   ]
  },
  {
   "cell_type": "code",
   "execution_count": 23,
   "metadata": {},
   "outputs": [],
   "source": [
    "def base4(x):\n",
    "    Q = []\n",
    "    init_value = int(x // 4)\n",
    "    it = 0\n",
    "    while x != 0 and it < 20:\n",
    "        x *= 4\n",
    "        q, r = divmod(x, 4)\n",
    "        Q.append(int(q))\n",
    "        x = r\n",
    "        it += 1\n",
    "    Q = [str(el) for el in Q]\n",
    "    return '0.' + ''.join(Q[1:])\n",
    "\n",
    "def base9(x):\n",
    "    Q = []\n",
    "    init_value = int(x // 9)\n",
    "    it = 0\n",
    "    while x != 0 and it < 20:\n",
    "        x *= 9\n",
    "        q, r = divmod(x, 9)\n",
    "        Q.append(int(q))\n",
    "        x = r\n",
    "        it += 1\n",
    "    Q = [str(el) for el in Q]\n",
    "    return f'{init_value}.' + ''.join(Q[1:])"
   ]
  },
  {
   "cell_type": "code",
   "execution_count": 24,
   "metadata": {},
   "outputs": [
    {
     "data": {
      "text/plain": [
       "'0.4444444444444444444'"
      ]
     },
     "execution_count": 24,
     "metadata": {},
     "output_type": "execute_result"
    }
   ],
   "source": [
    "base9(1/2)"
   ]
  },
  {
   "cell_type": "code",
   "execution_count": 25,
   "metadata": {},
   "outputs": [
    {
     "data": {
      "text/plain": [
       "'0.1111111111111111111'"
      ]
     },
     "execution_count": 25,
     "metadata": {},
     "output_type": "execute_result"
    }
   ],
   "source": [
    "base4(1/3)"
   ]
  },
  {
   "cell_type": "code",
   "execution_count": null,
   "metadata": {},
   "outputs": [],
   "source": []
  }
 ],
 "metadata": {
  "kernelspec": {
   "display_name": "Python 3",
   "language": "python",
   "name": "python3"
  },
  "language_info": {
   "codemirror_mode": {
    "name": "ipython",
    "version": 3
   },
   "file_extension": ".py",
   "mimetype": "text/x-python",
   "name": "python",
   "nbconvert_exporter": "python",
   "pygments_lexer": "ipython3",
   "version": "3.9.2"
  }
 },
 "nbformat": 4,
 "nbformat_minor": 4
}
